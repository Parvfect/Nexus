{
 "cells": [
  {
   "cell_type": "markdown",
   "id": "192e72f4",
   "metadata": {},
   "source": [
    "## Semantic scholar\n",
    "Switching to the api to see if it can give me more fulltexts in general"
   ]
  },
  {
   "cell_type": "code",
   "execution_count": 171,
   "id": "30a96d95",
   "metadata": {},
   "outputs": [],
   "source": [
    "import requests\n",
    "from utils import read_api_key, extract_pdf_text_from_url\n",
    "from semantic_scholar_functions import search_for_paper, retrieve_paper, bulk_retrieve_papers, get_paper_pdf_urls"
   ]
  },
  {
   "cell_type": "code",
   "execution_count": 145,
   "id": "6e5275df",
   "metadata": {},
   "outputs": [
    {
     "name": "stdout",
     "output_type": "stream",
     "text": [
      "The autoreload extension is already loaded. To reload it, use:\n",
      "  %reload_ext autoreload\n"
     ]
    }
   ],
   "source": [
    "%load_ext autoreload\n",
    "%autoreload 2"
   ]
  },
  {
   "cell_type": "code",
   "execution_count": 120,
   "id": "06fe3dac",
   "metadata": {},
   "outputs": [],
   "source": [
    "search_title = 'Neural network wavefunction lindblad equation'"
   ]
  },
  {
   "cell_type": "code",
   "execution_count": null,
   "id": "8919c117",
   "metadata": {},
   "outputs": [],
   "source": [
    "t = search_for_paper(paper_title=search_title)"
   ]
  },
  {
   "cell_type": "code",
   "execution_count": 166,
   "id": "bfa9a596",
   "metadata": {},
   "outputs": [],
   "source": [
    "paper_id = t['data'][4]['paperId']\n",
    "paper = retrieve_paper(paper_id)"
   ]
  },
  {
   "cell_type": "code",
   "execution_count": 167,
   "id": "208e132a",
   "metadata": {},
   "outputs": [],
   "source": [
    "reference_ids = [i['paperId'] for i in paper['references']]\n",
    "reference_papers = bulk_retrieve_papers(reference_ids)"
   ]
  },
  {
   "cell_type": "code",
   "execution_count": 168,
   "id": "7a13e3bd",
   "metadata": {},
   "outputs": [
    {
     "data": {
      "text/plain": [
       "29"
      ]
     },
     "execution_count": 168,
     "metadata": {},
     "output_type": "execute_result"
    }
   ],
   "source": [
    "len(reference_papers)"
   ]
  },
  {
   "cell_type": "code",
   "execution_count": 169,
   "id": "78dc1ef8",
   "metadata": {},
   "outputs": [
    {
     "name": "stderr",
     "output_type": "stream",
     "text": [
      "ERROR:root:Error in extracting pdf url for None\n",
      "ERROR:root:Error in extracting pdf url for None\n"
     ]
    }
   ],
   "source": [
    "reference_paper_urls = get_paper_pdf_urls(reference_papers)"
   ]
  },
  {
   "cell_type": "code",
   "execution_count": 172,
   "id": "2c067c22",
   "metadata": {},
   "outputs": [
    {
     "name": "stdout",
     "output_type": "stream",
     "text": [
      "Pdf extraction error Failed to open file 'temp.pdf'.\n"
     ]
    }
   ],
   "source": [
    "paper_fulltexts = [extract_pdf_text_from_url(i) for i in reference_paper_urls if i]"
   ]
  },
  {
   "cell_type": "code",
   "execution_count": 176,
   "id": "976765c9",
   "metadata": {},
   "outputs": [
    {
     "data": {
      "text/plain": [
       "'https://ieeexplore.ieee.org/ielx7/69/10063074/09627527.pdf'"
      ]
     },
     "execution_count": 176,
     "metadata": {},
     "output_type": "execute_result"
    }
   ],
   "source": [
    "reference_paper_urls[0]"
   ]
  },
  {
   "cell_type": "code",
   "execution_count": null,
   "id": "4b876728",
   "metadata": {},
   "outputs": [
    {
     "name": "stdout",
     "output_type": "stream",
     "text": [
      "[image] [image] arXiv Is Hiring a DevOps Engineer Work on one of the world's most important websites and make an impact on open science. View Jobs Skip to main content [image] arXiv Is Hiring a DevOps Engineer View Jobs We gratefully acknowledge support from the Simons Foundation, member institutions, and all contributors. Donate [image] > cs > arXiv:1907.11692 Help | Advanced Search All fields Title Author Abstract Comments Journal reference ACM classification MSC classification Report number arXiv identifier DOI ORCID arXiv author ID Help pages Full text Search [image] [image] GO quick links • Login • Help Pages • About Computer Science > Computation and Language arXiv:1907.11692 (cs) [Submitted on 26 Jul 2019] Title:RoBERTa: A Robustly Optimized BERT Pretraining Approach Authors:Yinhan Liu, Myle Ott, Naman Goyal, Jingfei Du, Mandar Joshi, Danqi Chen, Omer Levy, Mike Lewis, Luke Zettlemoyer, Veselin Stoyanov View a PDF of the paper titled RoBERTa: A Robustly Optimized BERT Pretraining Approach, by Yinhan Liu and 9 other authors View PDF Abstract:Language model pretraining has led to significant performance gains but careful comparison between different approaches is challenging. Training is computationally expensive, often done on private datasets of different sizes, and, as we will show, hyperparameter choices have significant impact on the final results. We present a replication study of BERT pretraining (Devlin et al., 2019) that carefully measures the impact of many key hyperparameters and training data size. We find that BERT was significantly undertrained, and can match or exceed the performance of every model published after it. Our best model achieves state-of-the-art results on GLUE, RACE and SQuAD. These results highlight the importance of previously overlooked design choices, and raise questions about the source of recently reported improvements. We release our models and code. Subjects: Computation and Language (cs.CL) Cite as: arXiv:1907.11692 [cs.CL] (or arXiv:1907.11692v1 [cs.CL] for this version) https://doi.org/10.48550/arXiv.1907.11692 Focus to learn more arXiv-issued DOI via DataCite Submission history From: Myle Ott [view email] [v1] Fri, 26 Jul 2019 17:48:29 UTC (45 KB) Full-text links: Access Paper: View a PDF of the paper titled RoBERTa: A Robustly Optimized BERT Pretraining Approach, by Yinhan Liu and 9 other authors • View PDF • TeX Source • Other Formats view license Current browse context: cs.CL < prev | next > new | recent | 2019-07 Change to browse by: cs References & Citations • NASA ADS • Google Scholar • Semantic Scholar 21 blog links (what is this?) DBLP - CS Bibliography listing | bibtex Yinhan Liu Myle Ott Naman Goyal Jingfei Du Mandar Joshi … a export BibTeX citation Loading... BibTeX formatted citation × loading... Data provided by: Bookmark [image] [image] Bibliographic Tools Bibliographic and Citation Tools Bibliographic Explorer Toggle Bibliographic Explorer (What is the Explorer?) Connected Papers Toggle Connected Papers (What is Connected Papers?) Litmaps Toggle Litmaps (What is Litmaps?) scite.ai Toggle scite Smart Citations (What are Smart Citations?) Code, Data, Media Code, Data and Media Associated with this Article alphaXiv Toggle alphaXiv (What is alphaXiv?) Links to Code Toggle CatalyzeX Code Finder for Papers (What is CatalyzeX?) DagsHub Toggle DagsHub (What is DagsHub?) GotitPub Toggle Gotit.pub (What is GotitPub?) Huggingface Toggle Hugging Face (What is Huggingface?) Links to Code Toggle Papers with Code (What is Papers with Code?) ScienceCast Toggle ScienceCast (What is ScienceCast?) Demos Demos Replicate Toggle Replicate (What is Replicate?) Spaces Toggle Hugging Face Spaces (What is Spaces?) Spaces Toggle TXYZ.AI (What is TXYZ.AI?) Related Papers Recommenders and Search Tools Link to Influence Flower Influence Flower (What are Influence Flowers?) Core recommender toggle CORE Recommender (What is CORE?) About arXivLabs arXivLabs: experimental projects with community collaborators arXivLabs is a framework that allows collaborators to develop and share new arXiv features directly on our website. Both individuals and organizations that work with arXivLabs have embraced and accepted our values of openness, community, excellence, and user data privacy. arXiv is committed to these values and only works with partners that adhere to them. Have an idea for a project that will add value for arXiv's community? Learn more about arXivLabs. Which authors of this paper are endorsers? | Disable MathJax (What is MathJax?) About Help Contact Subscribe Copyright Privacy Policy Web Accessibility Assistance arXiv Operational Status Get status notifications via email or slack\n"
     ]
    }
   ],
   "source": [
    "print(paper_fulltexts[5])"
   ]
  },
  {
   "cell_type": "code",
   "execution_count": 148,
   "id": "faba5b49",
   "metadata": {},
   "outputs": [
    {
     "data": {
      "text/plain": [
       "True"
      ]
     },
     "execution_count": 148,
     "metadata": {},
     "output_type": "execute_result"
    }
   ],
   "source": [
    "'email' in  reference_paper_urls[-1]"
   ]
  },
  {
   "cell_type": "code",
   "execution_count": 141,
   "id": "32ab7b85",
   "metadata": {},
   "outputs": [
    {
     "data": {
      "text/plain": [
       "18"
      ]
     },
     "execution_count": 141,
     "metadata": {},
     "output_type": "execute_result"
    }
   ],
   "source": [
    "len(reference_paper_urls)"
   ]
  },
  {
   "cell_type": "code",
   "execution_count": null,
   "id": "0b90925a",
   "metadata": {},
   "outputs": [],
   "source": [
    "bulk_retrieve_papers"
   ]
  },
  {
   "cell_type": "code",
   "execution_count": 128,
   "id": "af356d4c",
   "metadata": {},
   "outputs": [
    {
     "data": {
      "text/plain": [
       "'66162156875dac0b04385bea0a3964cfae460771'"
      ]
     },
     "execution_count": 128,
     "metadata": {},
     "output_type": "execute_result"
    }
   ],
   "source": [
    "t['data'][0]['paperId']"
   ]
  },
  {
   "cell_type": "code",
   "execution_count": 24,
   "id": "bcdf14b6",
   "metadata": {},
   "outputs": [],
   "source": [
    "S2_API_KEY = read_api_key()"
   ]
  },
  {
   "cell_type": "code",
   "execution_count": 6,
   "id": "64872599",
   "metadata": {},
   "outputs": [],
   "source": [
    "def make_request(url):\n",
    "\n",
    "    req = requests.get(\n",
    "        url=url\n",
    "    )\n",
    "\n",
    "    if req.status_code == 200:\n",
    "        return req\n",
    "    \n",
    "    else:\n",
    "        print(f\"Request failed with {req.status_code}\")\n",
    "\n",
    "    return req"
   ]
  },
  {
   "cell_type": "code",
   "execution_count": null,
   "id": "8bad0aa7",
   "metadata": {},
   "outputs": [],
   "source": [
    "req = requests.get(\n",
    "    'https://api.semanticscholar.org/graph/v1/paper/autocomplete',\n",
    "    headeres={'X-API-KEY': S2_API_KEY})"
   ]
  },
  {
   "cell_type": "code",
   "execution_count": 113,
   "id": "6cbdea60",
   "metadata": {},
   "outputs": [],
   "source": [
    "rsp = requests.get('https://api.semanticscholar.org/graph/v1/paper/search',\n",
    "                           headers={'X-API-KEY': S2_API_KEY},\n",
    "                           params={'query': \"Ab-initio molecular dynamics\", 'limit': '20'})"
   ]
  },
  {
   "cell_type": "code",
   "execution_count": 114,
   "id": "8fc42b3b",
   "metadata": {},
   "outputs": [
    {
     "data": {
      "text/plain": [
       "{'total': 47397,\n",
       " 'offset': 0,\n",
       " 'next': 20,\n",
       " 'data': [{'paperId': '34c2ad6f2d61a684d92e92428fb287c9489ebff0',\n",
       "   'title': 'Ab initio molecular dynamics for liquid metals.'},\n",
       "  {'paperId': '92ee05a7435d4f11c9e5586702371aa2fe9d0752',\n",
       "   'title': 'Ab initio molecular-dynamics simulation of the liquid-metal-amorphous-semiconductor transition in germanium.'},\n",
       "  {'paperId': '4e65bee56490fdc3dff46cf331aa693d7c85937d',\n",
       "   'title': 'Ab initio molecular dynamics for open-shell transition metals.'},\n",
       "  {'paperId': '70e1a81ecbc3183b6eecb23be87793f82df4c8b1',\n",
       "   'title': 'Mechanism of C-N bonds formation in electrocatalytic urea production revealed by ab initio molecular dynamics simulation'},\n",
       "  {'paperId': 'f0c6a22d5c2c8f9bafbed6d1253abdd153f6f696',\n",
       "   'title': 'A perspective on thermal stability and mechanical properties of 2D Indium Bismide from ab initio molecular dynamics'},\n",
       "  {'paperId': 'e637cf6f06e9acd665d7b384be411066dfee5b0b',\n",
       "   'title': 'TeraChem: A graphical processing unit‐accelerated electronic structure package for large‐scale ab initio molecular dynamics'},\n",
       "  {'paperId': 'ffd4e3ca4a1dd2606e823ce1a38e005b7511b47e',\n",
       "   'title': 'Solvation at metal/water interfaces: An ab initio molecular dynamics benchmark of common computational approaches.'},\n",
       "  {'paperId': '989128eac3f969f3c179eecf5aba90c8be7d7e64',\n",
       "   'title': 'Are There Magic Compositions in Deep Eutectic Solvents? Effects of Composition and Water Content in Choline Chloride/ethylene Glycol from Ab Initio Molecular Dynamics.'},\n",
       "  {'paperId': '745da437c08b91b5a6355f32a0602f342e99aca5',\n",
       "   'title': 'Modeling Electrified Pt(111)-Had/Water Interfaces from Ab Initio Molecular Dynamics'},\n",
       "  {'paperId': 'fe91cafe1c33e06a567d9d75441646592271c754',\n",
       "   'title': 'Establishment of the Potential of Zero Charge of Metals in Aqueous Solutions: Different Faces of Water Revealed by Ab Initio Molecular Dynamics Simulations'},\n",
       "  {'paperId': '5bdc69ce2675eec79f1f4d8feb7fb01f3d990380',\n",
       "   'title': 'TeraChem: Accelerating electronic structure and ab initio molecular dynamics with graphical processing units.'},\n",
       "  {'paperId': '637e8b634c83710bd71f30b3b97f3bc546d14627',\n",
       "   'title': 'Statistical variances of diffusional properties from ab initio molecular dynamics simulations'},\n",
       "  {'paperId': 'cf3982506310bbb10831dc4ed243ec5e1a9bdc15',\n",
       "   'title': 'Ab initio molecular dynamics with enhanced sampling in heterogeneous catalysis'},\n",
       "  {'paperId': '46db02d5381bfcd09d08cec62409bd76b8428f5e',\n",
       "   'title': 'A Review on Combination of Ab Initio Molecular Dynamics and NMR Parameters Calculations'},\n",
       "  {'paperId': 'b9dfe2a7b6a5daff279f56c17fd77abd8d92b158',\n",
       "   'title': 'Active learning accelerates ab initio molecular dynamics on reactive energy surfaces'},\n",
       "  {'paperId': 'e0dbf668ff9df842cd83de80065ccc6dfa740a61',\n",
       "   'title': 'Hydroxide Ion Diffusion in Anion-Exchange Membranes at Low Hydration: Insights from Ab Initio Molecular Dynamics'},\n",
       "  {'paperId': 'f85926d9cfcdf788efef4984bf9d8fefeb4c8944',\n",
       "   'title': 'Ab initio molecular dynamics and materials design for embedded phase-change memory'},\n",
       "  {'paperId': '8f71766783de10a42e42545e8c1797baf2d1998c',\n",
       "   'title': 'Microcanonical and finite-temperature \\nab initio\\n molecular dynamics simulations on quantum computers'},\n",
       "  {'paperId': '6ab4442cdf8521ce7e301541112a8102350ecad0',\n",
       "   'title': 'Ab initio molecular dynamics on quantum computers.'},\n",
       "  {'paperId': '63f03dafe78b82501ed4a2545c07a3e295a309f2',\n",
       "   'title': 'Ab initio characterization of protein molecular dynamics with AI2BMD'}]}"
      ]
     },
     "execution_count": 114,
     "metadata": {},
     "output_type": "execute_result"
    }
   ],
   "source": [
    "rsp.json()"
   ]
  },
  {
   "cell_type": "code",
   "execution_count": 71,
   "id": "c40fc57b",
   "metadata": {},
   "outputs": [],
   "source": [
    "paper_id = rsp.json()['matches'][0]['id']"
   ]
  },
  {
   "cell_type": "code",
   "execution_count": 80,
   "id": "e5b90c5a",
   "metadata": {},
   "outputs": [],
   "source": [
    "rsp = requests.get(f'https://api.semanticscholar.org/graph/v1/paper/{paper_id}',\n",
    "                   params={'fields': 'title,url,year,authors,isOpenAccess,openAccessPdf,references,externalIds'})"
   ]
  },
  {
   "cell_type": "code",
   "execution_count": 82,
   "id": "0f534c5d",
   "metadata": {},
   "outputs": [],
   "source": [
    "json_rep = rsp.json()"
   ]
  },
  {
   "cell_type": "code",
   "execution_count": 115,
   "id": "8e70d795",
   "metadata": {},
   "outputs": [
    {
     "data": {
      "text/plain": [
       "{'url': '',\n",
       " 'status': None,\n",
       " 'license': None,\n",
       " 'disclaimer': 'Notice: Paper or abstract available at https://arxiv.org/abs/1706.03762, which is subject to the license by the author or copyright owner provided with this content. Please go to the source to verify the license and copyright information for your use.'}"
      ]
     },
     "execution_count": 115,
     "metadata": {},
     "output_type": "execute_result"
    }
   ],
   "source": [
    "json_rep['openAccessPdf']"
   ]
  },
  {
   "cell_type": "code",
   "execution_count": 86,
   "id": "e03f0bc4",
   "metadata": {},
   "outputs": [
    {
     "data": {
      "text/plain": [
       "[{'paperId': '032274e57f7d8b456bd255fe76b909b2c1d7458e',\n",
       "  'title': 'A Deep Reinforced Model for Abstractive Summarization'},\n",
       " {'paperId': '43428880d75b3a14257c3ee9bda054e61eb869c0',\n",
       "  'title': 'Convolutional Sequence to Sequence Learning'},\n",
       " {'paperId': '4550a4c714920ef57d19878e31c9ebae37b049b2',\n",
       "  'title': 'Massive Exploration of Neural Machine Translation Architectures'},\n",
       " {'paperId': '204a4a70428f3938d2c538a4d74c7ae0416306d8',\n",
       "  'title': 'A Structured Self-attentive Sentence Embedding'},\n",
       " {'paperId': '79baf48bd560060549998d7b61751286de062e2a',\n",
       "  'title': 'Factorization tricks for LSTM networks'},\n",
       " {'paperId': '13d9323a8716131911bfda048a40e2cde1a76a46',\n",
       "  'title': 'Structured Attention Networks'},\n",
       " {'paperId': '510e26733aaff585d65701b9f1be7ca9d5afc586',\n",
       "  'title': 'Outrageously Large Neural Networks: The Sparsely-Gated Mixture-of-Experts Layer'},\n",
       " {'paperId': '98445f4172659ec5e891e031d8202c102135c644',\n",
       "  'title': 'Neural Machine Translation in Linear Time'},\n",
       " {'paperId': '735d547fc75e0772d2a78c46a1cc5fad7da1474c',\n",
       "  'title': 'Can Active Memory Replace Attention?'},\n",
       " {'paperId': '5b6ec746d309b165f9f9def873a2375b6fb40f3d',\n",
       "  'title': 'Xception: Deep Learning with Depthwise Separable Convolutions'},\n",
       " {'paperId': 'c6850869aa5e78a107c378d2e8bfa39633158c0c',\n",
       "  'title': \"Google's Neural Machine Translation System: Bridging the Gap between Human and Machine Translation\"},\n",
       " {'paperId': '63e39cdf1ad884da6bc69096bb3413b5b1100559',\n",
       "  'title': 'Using the Output Embedding to Improve Language Models'},\n",
       " {'paperId': '97fb4e3d45bb098e27e0071448b6152217bd35a5',\n",
       "  'title': 'Layer Normalization'},\n",
       " {'paperId': 'b60abe57bc195616063be10638c6437358c81d1e',\n",
       "  'title': 'Deep Recurrent Models with Fast-Forward Connections for Neural Machine Translation'},\n",
       " {'paperId': '2f2d8f8072e5cc9b296fad551f65f183bdbff7aa',\n",
       "  'title': 'Exploring the Limits of Language Modeling'},\n",
       " {'paperId': '7345843e87c81e24e42264859b214d26042f8d51',\n",
       "  'title': 'Recurrent Neural Network Grammars'},\n",
       " {'paperId': '13fe71da009484f240c46f14d9330e932f8de210',\n",
       "  'title': 'Long Short-Term Memory-Networks for Machine Reading'},\n",
       " {'paperId': '2c03df8b48bf3fa39054345bafabfeff15bfd11d',\n",
       "  'title': 'Deep Residual Learning for Image Recognition'},\n",
       " {'paperId': '23ffaa0fe06eae05817f527a47ac3291077f9e58',\n",
       "  'title': 'Rethinking the Inception Architecture for Computer Vision'},\n",
       " {'paperId': '5e4eb58d5b47ac1c73f4cf189497170e75ae6237',\n",
       "  'title': 'Neural GPUs Learn Algorithms'},\n",
       " {'paperId': 'd76c07211479e233f7c6a6f32d5346c983c5598f',\n",
       "  'title': 'Multi-task Sequence to Sequence Learning'},\n",
       " {'paperId': '1518039b5001f1836565215eb047526b3ac7f462',\n",
       "  'title': 'Neural Machine Translation of Rare Words with Subword Units'},\n",
       " {'paperId': '93499a7c7f699b6630a86fad964536f9423bb6d0',\n",
       "  'title': 'Effective Approaches to Attention-based Neural Machine Translation'},\n",
       " {'paperId': '4f10b9f47c5bb6b54dd4f5ca8d9fa2c0bbd7ec5e',\n",
       "  'title': 'End-To-End Memory Networks'},\n",
       " {'paperId': '47570e7f63e296f224a0e7f9a0d08b0de3cbaf40',\n",
       "  'title': 'Grammar as a Foreign Language'},\n",
       " {'paperId': 'a6cb366736791bcccc5c8639de5a8f9636bf87e8',\n",
       "  'title': 'Adam: A Method for Stochastic Optimization'},\n",
       " {'paperId': 'ac3ee98020251797c2b401e1389461df88e52e62',\n",
       "  'title': 'Empirical Evaluation of Gated Recurrent Neural Networks on Sequence Modeling'},\n",
       " {'paperId': 'cea967b59209c6be22829699f05b8b1ac4dc092d',\n",
       "  'title': 'Sequence to Sequence Learning with Neural Networks'},\n",
       " {'paperId': 'fa72afa9b2cbc8f0d7b05d52548906610ffbb9c5',\n",
       "  'title': 'Neural Machine Translation by Jointly Learning to Align and Translate'},\n",
       " {'paperId': '0b544dfe355a5070b60986319a3f51fb45d1348e',\n",
       "  'title': 'Learning Phrase Representations using RNN Encoder–Decoder for Statistical Machine Translation'},\n",
       " {'paperId': '6471fd1cbc081fb3b7b5b14d6ab9eaaba02b5c17',\n",
       "  'title': 'Generating Sequences With Recurrent Neural Networks'},\n",
       " {'paperId': '174bbdb96252454cbb40a9c4e53335996235a008',\n",
       "  'title': 'Fast and Accurate Shift-Reduce Constituent Parsing'},\n",
       " {'paperId': '5bfd8d40bc071fffaf93685a46974b122ee4239d',\n",
       "  'title': 'Self-Training PCFG Grammars with Latent Annotations Across Languages'},\n",
       " {'paperId': 'f52de7242e574b70410ca6fb70b79c811919fc00',\n",
       "  'title': 'Learning Accurate, Compact, and Interpretable Tree Annotation'},\n",
       " {'paperId': '78a9513e70f596077179101f6cb6eadc51602039',\n",
       "  'title': 'Effective Self-Training for Parsing'},\n",
       " {'paperId': '2e9d221c206e9503ceb452302d68d10e293f2a10',\n",
       "  'title': 'Long Short-Term Memory'},\n",
       " {'paperId': '0b44fcbeea9415d400c5f5789d6b892b6f98daff',\n",
       "  'title': 'Building a Large Annotated Corpus of English: The Penn Treebank'},\n",
       " {'paperId': None, 'title': 'A decomposable attention model'},\n",
       " {'paperId': '34f25a8704614163c4095b3ee2fc969b60de4698',\n",
       "  'title': 'Dropout: a simple way to prevent neural networks from overfitting'},\n",
       " {'paperId': '2e5f2b57f4c476dd69dc22ccdf547e48f40a994c',\n",
       "  'title': 'Gradient Flow in Recurrent Nets: the Difficulty of Learning Long-Term Dependencies'},\n",
       " {'paperId': None,\n",
       "  'title': 'Le , Ilya Sutskever , Oriol Vinyals , and Lukasz Kaiser . Multitask sequence to sequence learning'}]"
      ]
     },
     "execution_count": 86,
     "metadata": {},
     "output_type": "execute_result"
    }
   ],
   "source": [
    "json_rep['references']"
   ]
  },
  {
   "cell_type": "code",
   "execution_count": 89,
   "id": "2f8e72b7",
   "metadata": {},
   "outputs": [],
   "source": [
    "reference_ids = [i['paperId'] for i in json_rep['references']]"
   ]
  },
  {
   "cell_type": "code",
   "execution_count": 95,
   "id": "073516e3",
   "metadata": {},
   "outputs": [],
   "source": [
    "r = requests.post(\n",
    "    'https://api.semanticscholar.org/graph/v1/paper/batch',\n",
    "    params={'fields': 'referenceCount,citationCount,title,authors,openAccessPdf,externalIds,corpusId,year,influentialCitationCount,fieldsOfStudy,s2FieldsOfStudy,journal,authors,references,tldr'},\n",
    "    json={\"ids\": reference_ids}\n",
    ")"
   ]
  },
  {
   "cell_type": "code",
   "execution_count": 103,
   "id": "c8eedf52",
   "metadata": {},
   "outputs": [],
   "source": [
    "import regex as re"
   ]
  },
  {
   "cell_type": "code",
   "execution_count": 116,
   "id": "cbbb6116",
   "metadata": {},
   "outputs": [
    {
     "name": "stdout",
     "output_type": "stream",
     "text": [
      "https://arxiv.org/abs/1705.04304\n",
      "\n",
      "https://arxiv.org/abs/1705.03122\n",
      "\n",
      "https://arxiv.org/abs/1703.03906\n",
      "https://www.aclweb.org/anthology/D17-1151.pdf\n",
      "https://arxiv.org/abs/1703.03130\n",
      "\n",
      "https://arxiv.org/abs/1703.10722\n",
      "\n",
      "https://arxiv.org/abs/1702.00887\n",
      "\n",
      "https://arxiv.org/abs/1701.06538\n",
      "\n",
      "https://arxiv.org/abs/1610.10099\n",
      "\n",
      "https://arxiv.org/abs/1610.08613\n",
      "\n",
      "https://arxiv.org/abs/1610.02357\n",
      "https://arxiv.org/pdf/1610.02357\n",
      "https://arxiv.org/abs/1609.08144\n",
      "\n",
      "https://arxiv.org/abs/1608.05859\n",
      "https://www.aclweb.org/anthology/E17-2025.pdf\n",
      "https://arxiv.org/abs/1607.06450\n",
      "\n",
      "https://arxiv.org/abs/1606.04199\n",
      "http://www.mitpressjournals.org/doi/pdf/10.1162/tacl_a_00105\n",
      "https://arxiv.org/abs/1602.02410\n",
      "\n",
      "https://arxiv.org/abs/1602.07776\n",
      "https://www.aclweb.org/anthology/N16-1024.pdf\n",
      "https://arxiv.org/abs/1601.06733\n",
      "https://www.aclweb.org/anthology/D16-1053.pdf\n",
      "https://arxiv.org/abs/1512.03385\n",
      "https://repositorio.unal.edu.co/bitstream/unal/81443/1/98670607.2022.pdf\n",
      "https://arxiv.org/abs/1512.00567\n",
      "http://arxiv.org/pdf/1512.00567\n",
      "https://arxiv.org/abs/1511.08228\n",
      "\n",
      "https://arxiv.org/abs/1511.06114\n",
      "\n",
      "https://arxiv.org/abs/1508.07909\n",
      "https://www.aclweb.org/anthology/P16-1162.pdf\n",
      "https://arxiv.org/abs/1508.04025\n",
      "https://www.aclweb.org/anthology/D15-1166.pdf\n"
     ]
    },
    {
     "ename": "KeyError",
     "evalue": "'disclaimer'",
     "output_type": "error",
     "traceback": [
      "\u001b[1;31m---------------------------------------------------------------------------\u001b[0m",
      "\u001b[1;31mKeyError\u001b[0m                                  Traceback (most recent call last)",
      "Cell \u001b[1;32mIn[116], line 3\u001b[0m\n\u001b[0;32m      1\u001b[0m \u001b[38;5;28;01mfor\u001b[39;00m i \u001b[38;5;129;01min\u001b[39;00m r\u001b[38;5;241m.\u001b[39mjson():\n\u001b[0;32m      2\u001b[0m     \u001b[38;5;28;01mif\u001b[39;00m i \u001b[38;5;129;01mis\u001b[39;00m \u001b[38;5;129;01mnot\u001b[39;00m \u001b[38;5;28;01mNone\u001b[39;00m:\n\u001b[1;32m----> 3\u001b[0m         disclaimer \u001b[38;5;241m=\u001b[39m \u001b[43mi\u001b[49m\u001b[43m[\u001b[49m\u001b[38;5;124;43m'\u001b[39;49m\u001b[38;5;124;43mopenAccessPdf\u001b[39;49m\u001b[38;5;124;43m'\u001b[39;49m\u001b[43m]\u001b[49m\u001b[43m[\u001b[49m\u001b[38;5;124;43m'\u001b[39;49m\u001b[38;5;124;43mdisclaimer\u001b[39;49m\u001b[38;5;124;43m'\u001b[39;49m\u001b[43m]\u001b[49m\n\u001b[0;32m      4\u001b[0m         pattern \u001b[38;5;241m=\u001b[39m \u001b[38;5;124mr\u001b[39m\u001b[38;5;124m\"\u001b[39m\u001b[38;5;124mhttps?://[^\u001b[39m\u001b[38;5;124m\\\u001b[39m\u001b[38;5;124ms,]+\u001b[39m\u001b[38;5;124m\"\u001b[39m  \u001b[38;5;66;03m# matches http or https until a space or comma\u001b[39;00m\n\u001b[0;32m      5\u001b[0m         urls \u001b[38;5;241m=\u001b[39m re\u001b[38;5;241m.\u001b[39mfindall(pattern, disclaimer)\n",
      "\u001b[1;31mKeyError\u001b[0m: 'disclaimer'"
     ]
    }
   ],
   "source": [
    "for i in r.json():\n",
    "    if i is not None:\n",
    "        disclaimer = i['openAccessPdf']['disclaimer']\n",
    "        pattern = r\"https?://[^\\s,]+\"  # matches http or https until a space or comma\n",
    "        urls = re.findall(pattern, disclaimer)\n",
    "        print(urls[0])\n",
    "        #print(i['openAccessPdf']['disclaimer'])\n",
    "        print(i['openAccessPdf']['url'])"
   ]
  },
  {
   "cell_type": "code",
   "execution_count": null,
   "id": "dfa8063f",
   "metadata": {},
   "outputs": [],
   "source": []
  }
 ],
 "metadata": {
  "kernelspec": {
   "display_name": "pytorch_gpu",
   "language": "python",
   "name": "python3"
  },
  "language_info": {
   "codemirror_mode": {
    "name": "ipython",
    "version": 3
   },
   "file_extension": ".py",
   "mimetype": "text/x-python",
   "name": "python",
   "nbconvert_exporter": "python",
   "pygments_lexer": "ipython3",
   "version": "3.12.3"
  }
 },
 "nbformat": 4,
 "nbformat_minor": 5
}
